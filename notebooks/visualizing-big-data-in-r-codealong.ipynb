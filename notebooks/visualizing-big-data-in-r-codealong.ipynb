{
 "cells": [
  {
   "cell_type": "markdown",
   "metadata": {},
   "source": [
    "![DataCamp logo](https://camo.githubusercontent.com/37701d42d9ffe96d33524b7fb8d965d2f7ae8380/68747470733a2f2f6769746875622e636f6d2f6461746163616d702f707974686f6e2d6c6976652d747261696e696e672d74656d706c6174652f626c6f622f6d61737465722f6173736574732f6461746163616d702e7376673f7261773d54727565)"
   ]
  },
  {
   "cell_type": "markdown",
   "metadata": {},
   "source": [
    "# Visualizing Big Data in R\n",
    "## by Richie Cotton\n"
   ]
  },
  {
   "cell_type": "markdown",
   "metadata": {},
   "source": [
    "# Prelude"
   ]
  },
  {
   "cell_type": "markdown",
   "metadata": {},
   "source": [
    "Install these additional R packages."
   ]
  },
  {
   "cell_type": "code",
   "execution_count": null,
   "metadata": {
    "collapsed": true
   },
   "outputs": [],
   "source": [
    "rlib <- \"~/lib\"\n",
    "dir.create(rlib)\n",
    ".libPaths(rlib)\n",
    "library(remotes)\n",
    "install_version(\"hexbin\", \"1.28.1\", lib = rlib, upgrade = \"never\")\n",
    "install_version(\"fst\", \"0.9.2\", lib = rlib, upgrade = \"never\")\n",
    "install_version(\"ggcorrplot\", \"0.1.3\", lib = rlib, upgrade = \"never\")\n",
    "install_version(\"trelliscopejs\", \"0.2.5\", lib = rlib, upgrade = \"never\")\n",
    "install_version(\"plotly\", \"4.9.2.1\", lib = rlib, upgrade = \"never\")"
   ]
  },
  {
   "cell_type": "markdown",
   "metadata": {},
   "source": [
    "# Chapter 1: Too many points - point size, transparency, transformation"
   ]
  },
  {
   "cell_type": "markdown",
   "metadata": {},
   "source": [
    "Here, you'll look at the LA home prices dataset to explore ways of reducing overplotting."
   ]
  },
  {
   "cell_type": "markdown",
   "metadata": {},
   "source": [
    "## Learning objectives\n",
    "\n",
    "- Understands that one cause of overplotting in scatter plots is simply that there are too many points.\n",
    "- Can apply point size adjustments, transparency, and axis scale transformations to reduce overplotting problems.\n",
    "- Can draw and interpret a hex plot."
   ]
  },
  {
   "cell_type": "markdown",
   "metadata": {},
   "source": [
    "## Loading the packages\n",
    "\n",
    "You need a way to import a CSV file, `tibble` and `ggplot2`."
   ]
  },
  {
   "cell_type": "code",
   "execution_count": null,
   "metadata": {
    "collapsed": true,
    "message": false,
    "name": "load_pkg"
   },
   "outputs": [],
   "source": [
    "# Load tibble, ggplot2, and a CSV reader\n"
   ]
  },
  {
   "cell_type": "markdown",
   "metadata": {},
   "source": [
    "## Exploring the dataset\n",
    "\n",
    "The dataset is here. Run this cell!"
   ]
  },
  {
   "cell_type": "code",
   "execution_count": null,
   "metadata": {
    "collapsed": true,
    "name": "data_file"
   },
   "outputs": [],
   "source": [
    "data_file <- \"https://raw.githubusercontent.com/datacamp/Visualizing-Big-Data-in-R-live-training/master/data/LAhomes.csv\""
   ]
  },
  {
   "cell_type": "markdown",
   "metadata": {},
   "source": [
    "Read in the dataset from `data_file`, assigning the result to `la_homes`. Explore it (using whichever functions you like)."
   ]
  },
  {
   "cell_type": "code",
   "execution_count": null,
   "metadata": {
    "collapsed": true,
    "name": "import"
   },
   "outputs": [],
   "source": [
    "# Read data_file from CSV\n",
    "\n",
    "\n",
    "# Explore it\n"
   ]
  },
  {
   "cell_type": "markdown",
   "metadata": {},
   "source": [
    "- `price` is the sale price of the home, in USD.\n",
    "- `sqft` is the area of the home in square feet (about 0.1 square meters).\n",
    "\n",
    "Using `la_homes`, draw a scatter plot of `price` versus `sqft`."
   ]
  },
  {
   "cell_type": "code",
   "execution_count": null,
   "metadata": {
    "collapsed": true,
    "name": "basic_scatter"
   },
   "outputs": [],
   "source": [
    "# Using la_homes, plot price vs. sqft with point layer\n"
   ]
  },
  {
   "cell_type": "markdown",
   "metadata": {},
   "source": [
    "## Changing point size\n",
    "\n",
    "Notice that points in the plot are heavily overplotted in the bottom left corner.\n",
    "\n",
    "Redraw the basic scatter plot, changing the point size to `0.5`."
   ]
  },
  {
   "cell_type": "code",
   "execution_count": null,
   "metadata": {
    "collapsed": true,
    "name": "smaller_points"
   },
   "outputs": [],
   "source": [
    "# Draw same scatter plot, with size 0.5\n"
   ]
  },
  {
   "cell_type": "markdown",
   "metadata": {},
   "source": [
    "Redraw the basic scatter plot, changing the point shape to be \"pixel points\"."
   ]
  },
  {
   "cell_type": "code",
   "execution_count": null,
   "metadata": {
    "collapsed": true,
    "name": "pixel_points"
   },
   "outputs": [],
   "source": [
    "# Draw same scatter plot, with pixel shape\n"
   ]
  },
  {
   "cell_type": "markdown",
   "metadata": {},
   "source": [
    "## Using transparency\n",
    "\n",
    "Redraw the basic scatter plot, changing the transparency level of points to `0.25`. Set a white background by using ggplot2's black and white theme."
   ]
  },
  {
   "cell_type": "code",
   "execution_count": null,
   "metadata": {
    "collapsed": true,
    "name": "transparency"
   },
   "outputs": [],
   "source": [
    "# Draw same scatter plot, with transparency 0.25 and black & white theme\n"
   ]
  },
  {
   "cell_type": "markdown",
   "metadata": {},
   "source": [
    "## Transform the axes\n",
    "\n",
    "Most of the plots are stuck in the bottom-left corner. Transform the x and y axes to spread points more evenly throughout.\n",
    "\n",
    "Redraw the basic scatter plot, applying a log10 transformation to the x and y scales."
   ]
  },
  {
   "cell_type": "code",
   "execution_count": null,
   "metadata": {
    "collapsed": true,
    "name": "loglog"
   },
   "outputs": [],
   "source": [
    "# Draw same scatter plot, with log-log scales\n"
   ]
  },
  {
   "cell_type": "markdown",
   "metadata": {},
   "source": [
    "Redraw the scatter plot using all three tricks at once.\n",
    "\n",
    "- Set the point size to `0.5`.\n",
    "- Set the point transparency to `0.25`.\n",
    "- Using log10 transformations for the x and y scales.\n",
    "- Use the black and white theme."
   ]
  },
  {
   "cell_type": "code",
   "execution_count": null,
   "metadata": {
    "collapsed": true,
    "name": "all_tricks"
   },
   "outputs": [],
   "source": [
    "# Draw same scatter plot, with all 3 tricks\n"
   ]
  },
  {
   "cell_type": "markdown",
   "metadata": {},
   "source": [
    "## Hex plots\n",
    "\n",
    "Draw a hex plot of `price` versus `sqft`."
   ]
  },
  {
   "cell_type": "code",
   "execution_count": null,
   "metadata": {
    "collapsed": true,
    "name": "hex"
   },
   "outputs": [],
   "source": [
    "# Using la_homes, plot price vs. sqft with hex layer\n"
   ]
  },
  {
   "cell_type": "markdown",
   "metadata": {},
   "source": [
    "Redraw the hex plot, applying log10 transformations to the x and y scales."
   ]
  },
  {
   "cell_type": "code",
   "execution_count": null,
   "metadata": {
    "collapsed": true,
    "name": "hex_loglog"
   },
   "outputs": [],
   "source": [
    "# Draw same hex plot, with log-log scales\n"
   ]
  },
  {
   "cell_type": "markdown",
   "metadata": {},
   "source": [
    "Which statement about the trend is true?\n",
    "\n",
    "- [ ] Price increases roughly linearly with area.\n",
    "- [ ] Price increases roughly linearly with log area.\n",
    "- [ ] Log price increases roughly linearly with area.\n",
    "- [ ] Log price increases roughly linearly with log area."
   ]
  },
  {
   "cell_type": "markdown",
   "metadata": {},
   "source": [
    "Which statement about the overplotting is true?\n",
    "\n",
    "- [ ] The majority of the houses are found in the region of darkest blues on the hex plot.\n",
    "- [ ] The majority of the houses are found in the region of lightest blues on the hex plot.\n",
    "- [ ] The hex plot tells us nothing about where the majority of the houses are found."
   ]
  },
  {
   "cell_type": "markdown",
   "metadata": {},
   "source": [
    "# Chapter 2: Aligned values - jittering"
   ]
  },
  {
   "cell_type": "markdown",
   "metadata": {},
   "source": [
    "Here you'll take another look at overplotting in the LA homes dataset."
   ]
  },
  {
   "cell_type": "markdown",
   "metadata": {},
   "source": [
    "## Learning objectives\n",
    "\n",
    "- Understands that one cause of overplotting in scatter plots is low-precision, integer, or categorical variables taking exactly the same values.\n",
    "- Can apply jittering, transparency, and scale transformations to solve the problem."
   ]
  },
  {
   "cell_type": "markdown",
   "metadata": {},
   "source": [
    "## Loading the packages\n",
    "\n",
    "You'll need `readr`, `dplyr` and `ggplot2`. Just run this code."
   ]
  },
  {
   "cell_type": "code",
   "execution_count": null,
   "metadata": {
    "collapsed": true,
    "message": false,
    "name": "load_pkg"
   },
   "outputs": [],
   "source": [
    "library(readr)\n",
    "library(dplyr)\n",
    "library(ggplot2)"
   ]
  },
  {
   "cell_type": "markdown",
   "metadata": {},
   "source": [
    "## Importing and exploring the data\n",
    "\n",
    "The dataset is here. Run this chunk!"
   ]
  },
  {
   "cell_type": "code",
   "execution_count": null,
   "metadata": {
    "collapsed": true,
    "name": "data_file"
   },
   "outputs": [],
   "source": [
    "data_file <- \"https://raw.githubusercontent.com/datacamp/Visualizing-Big-Data-in-R-live-training/master/data/LAhomes.csv\""
   ]
  },
  {
   "cell_type": "markdown",
   "metadata": {},
   "source": [
    "Import the LA homes dataset from `data_file`, assigning to `la_homes`."
   ]
  },
  {
   "cell_type": "code",
   "execution_count": null,
   "metadata": {
    "collapsed": true
   },
   "outputs": [],
   "source": [
    "# Import data_file\n"
   ]
  },
  {
   "cell_type": "markdown",
   "metadata": {},
   "source": [
    "- `bed` contains the number of bedrooms in the home.\n",
    "\n",
    "Take a look at the distinct values in `bed` using `distinct()`."
   ]
  },
  {
   "cell_type": "code",
   "execution_count": null,
   "metadata": {
    "collapsed": true,
    "name": "beds"
   },
   "outputs": [],
   "source": [
    "# Look at the distinct values of the bed column\n"
   ]
  },
  {
   "cell_type": "markdown",
   "metadata": {},
   "source": [
    "Notice that the number of bedrooms is always an integer and sometimes zero.\n",
    "\n",
    "## Scatter plots of price vs. bedrooms\n",
    "\n",
    "Using `la_homes`, draw a scatter plot of `price` versus `bed`."
   ]
  },
  {
   "cell_type": "code",
   "execution_count": null,
   "metadata": {
    "collapsed": true,
    "name": "price_vs_beds"
   },
   "outputs": [],
   "source": [
    "# Using la_homes, plot price vs. bed with a point layer\n"
   ]
  },
  {
   "cell_type": "markdown",
   "metadata": {},
   "source": [
    "Draw the same plot again, this time jittering the points along the x-axis.\n",
    "\n",
    "- Use a maximum jitter distance of `0.4` in the x direction.\n",
    "- Don't jitter in the y direction."
   ]
  },
  {
   "cell_type": "code",
   "execution_count": null,
   "metadata": {
    "collapsed": true,
    "name": "jitter_x"
   },
   "outputs": [],
   "source": [
    "# Draw the previous plot but jitter points with width 0.4\n"
   ]
  },
  {
   "cell_type": "markdown",
   "metadata": {},
   "source": [
    "Most of the points are near the bottom of the plot.\n",
    "\n",
    "Draw the same jittered plot again, this time using a log10 transformation on the y-scale."
   ]
  },
  {
   "cell_type": "code",
   "execution_count": null,
   "metadata": {
    "collapsed": true,
    "name": "log_y"
   },
   "outputs": [],
   "source": [
    "# Draw the previous plot but use a log y-axis\n"
   ]
  },
  {
   "cell_type": "markdown",
   "metadata": {},
   "source": [
    "## Scatter plots of bathrooms vs. bedrooms\n",
    "\n",
    "- `bath` contains the number of bathrooms in the home.\n",
    "\n",
    "Take a look at the distinct values in `bath` using `distinct()`."
   ]
  },
  {
   "cell_type": "code",
   "execution_count": null,
   "metadata": {
    "collapsed": true,
    "name": "baths"
   },
   "outputs": [],
   "source": [
    "# Look at the distinct values of the bath column\n"
   ]
  },
  {
   "cell_type": "markdown",
   "metadata": {},
   "source": [
    "Notice that the dataset includes half and quarter bathrooms (whatever they are).\n",
    "\n",
    "Draw a scatter plot of `bath` versus `bed`."
   ]
  },
  {
   "cell_type": "code",
   "execution_count": null,
   "metadata": {
    "collapsed": true,
    "name": "baths_vs_beds"
   },
   "outputs": [],
   "source": [
    "# Using la_homes, plot bath vs. bed with a point layer\n"
   ]
  },
  {
   "cell_type": "markdown",
   "metadata": {},
   "source": [
    "Draw the same plot again, this time jittering the points.\n",
    "\n",
    "- Use a maximum jitter distance of `0.4` in the x direction.\n",
    "- Use a maximum jitter distance of `0.05` in the y direction."
   ]
  },
  {
   "cell_type": "code",
   "execution_count": null,
   "metadata": {
    "collapsed": true,
    "name": "bvb_jittered"
   },
   "outputs": [],
   "source": [
    "# Using la_homes, plot price vs. bed with a point layer\n"
   ]
  },
  {
   "cell_type": "markdown",
   "metadata": {},
   "source": [
    "## Filtering and transformation\n",
    "\n",
    "There are three homes with 10 or more bedrooms. These constitute outliers, and for the purpose of drawing nicer plots, we're going to remove them.\n",
    "\n",
    "Filter `la_homes` for rows where `bed` is less than `10`, assigning to `la_homes10`. Count the number of rows you removed to check you've done it correctly."
   ]
  },
  {
   "cell_type": "code",
   "execution_count": null,
   "metadata": {
    "collapsed": true,
    "name": "filtering"
   },
   "outputs": [],
   "source": [
    "# Filter for bed less than 10\n",
    "la_homes10 <- \n",
    "\n",
    "# Calculate the number of outliers you removed\n"
   ]
  },
  {
   "cell_type": "markdown",
   "metadata": {},
   "source": [
    "Draw the same jittered scatter plot again, this time using the filtered dataset (`la_homes10`). As before, use a jitter width of `0.4` and a jitter height of `0.05`."
   ]
  },
  {
   "cell_type": "code",
   "execution_count": null,
   "metadata": {
    "collapsed": true,
    "name": "bvb10_jittered"
   },
   "outputs": [],
   "source": [
    "# Draw the previous plot, but with the la_homes10 dataset\n"
   ]
  },
  {
   "cell_type": "markdown",
   "metadata": {},
   "source": [
    "Most of the points are towards the bottom left of the plot.\n",
    "\n",
    "Draw the same jittered scatter plot again, this time applying square-root transformations to the x and y scales."
   ]
  },
  {
   "cell_type": "code",
   "execution_count": null,
   "metadata": {
    "collapsed": true,
    "name": "sqrtsqrt"
   },
   "outputs": [],
   "source": [
    "# Draw the previous plot but with sqrt-sqrt scales\n"
   ]
  },
  {
   "cell_type": "markdown",
   "metadata": {},
   "source": [
    "Refine the plot one more time, by making the points transparent.\n",
    "\n",
    "Draw the previous plot again, setting the transparency level to 0.25 (and using a black and white theme)."
   ]
  },
  {
   "cell_type": "code",
   "execution_count": null,
   "metadata": {
    "collapsed": true,
    "lines_to_next_cell": 2,
    "name": "transparency"
   },
   "outputs": [],
   "source": [
    "# Draw the previous plot but with transparency 0.25\n"
   ]
  },
  {
   "cell_type": "markdown",
   "metadata": {},
   "source": [
    "# Chapter 3: Too many variables - correlation heatmaps"
   ]
  },
  {
   "cell_type": "markdown",
   "metadata": {},
   "source": [
    "Here you'll look at a dataset on Scotch whisky preferences."
   ]
  },
  {
   "cell_type": "markdown",
   "metadata": {},
   "source": [
    "## Learning objectives\n",
    "\n",
    "- Can draw a correlation heatmap.\n",
    "- Can use hierarchical clustering to order cells in a correlation heatmap.\n",
    "- Can adjust the color scale in a correlation heatmap.\n",
    "- Can interpret a correlation heatmap."
   ]
  },
  {
   "cell_type": "markdown",
   "metadata": {},
   "source": [
    "## Loading the packages\n",
    "\n",
    "You'll need `fst`, `dplyr`, `ggplot2`, and `ggcorrplot`. Just run this code."
   ]
  },
  {
   "cell_type": "code",
   "execution_count": null,
   "metadata": {
    "collapsed": true,
    "message": false,
    "name": "load_pkg"
   },
   "outputs": [],
   "source": [
    "library(fst)\n",
    "library(tibble)\n",
    "library(ggplot2)\n",
    "library(ggcorrplot)"
   ]
  },
  {
   "cell_type": "markdown",
   "metadata": {},
   "source": [
    "## Get the dataset\n",
    "\n",
    "The dataset is a modified version of `bayesm::Scotch`. \n",
    "\n",
    "- See https://www.rdocumentation.org/packages/bayesm/topics/Scotch for details.\n",
    "- Each observation is a survey response indicating the brands of Scotch consumed in the last year."
   ]
  },
  {
   "cell_type": "markdown",
   "metadata": {},
   "source": [
    "Run this to download\n",
    "the data file."
   ]
  },
  {
   "cell_type": "code",
   "execution_count": null,
   "metadata": {
    "collapsed": true
   },
   "outputs": [],
   "source": [
    "download.file(\n",
    "  \"https://github.com/datacamp/Visualizing-Big-Data-in-R-live-training/raw/master/data/scotch.fst\",\n",
    "  \"scotch.fst\"\n",
    ")"
   ]
  },
  {
   "cell_type": "markdown",
   "metadata": {},
   "source": [
    "Import the dataset from `scotch.fst` and assign to `scotch`."
   ]
  },
  {
   "cell_type": "code",
   "execution_count": null,
   "metadata": {
    "collapsed": true,
    "name": "explore"
   },
   "outputs": [],
   "source": [
    "# Import from scotch.fst\n",
    "scotch <- \n",
    "\n",
    "# Explore the dataset, however you wish\n"
   ]
  },
  {
   "cell_type": "markdown",
   "metadata": {},
   "source": [
    "## Draw a basic correlation heatmap\n",
    "\n",
    "Calculate the correlation matrix for `scotch`, assigning to `correl`."
   ]
  },
  {
   "cell_type": "code",
   "execution_count": null,
   "metadata": {
    "collapsed": true,
    "name": "correl"
   },
   "outputs": [],
   "source": [
    "# Calculate the correlation matrix\n",
    "correl <- "
   ]
  },
  {
   "cell_type": "markdown",
   "metadata": {},
   "source": [
    "Draw a correlation heatmap of it (no customization)."
   ]
  },
  {
   "cell_type": "code",
   "execution_count": null,
   "metadata": {
    "collapsed": true,
    "name": "basic"
   },
   "outputs": [],
   "source": [
    "# Draw a correlation heatmap\n"
   ]
  },
  {
   "cell_type": "markdown",
   "metadata": {},
   "source": [
    "## Drop redundant cells\n",
    "\n",
    "Draw the previous plot again, this time only showing the upper triangular portion of the correlation matrix."
   ]
  },
  {
   "cell_type": "code",
   "execution_count": null,
   "metadata": {
    "collapsed": true,
    "name": "upper"
   },
   "outputs": [],
   "source": [
    "# Draw a correlation heatmap of the upper triangular portion\n"
   ]
  },
  {
   "cell_type": "markdown",
   "metadata": {},
   "source": [
    "## Use hierarchical clustering\n",
    "\n",
    "Draw the previous plot again, this time using hierarchical clustering to reorder cells."
   ]
  },
  {
   "cell_type": "code",
   "execution_count": null,
   "metadata": {
    "collapsed": true,
    "name": "hierarchical"
   },
   "outputs": [],
   "source": [
    "# Draw a correlation heatmap of the upper triangular portion\n"
   ]
  },
  {
   "cell_type": "markdown",
   "metadata": {},
   "source": [
    "# Override the color scale\n",
    "\n",
    "Set the diagonal values in the correlation matrix to `NA`, then calculate the range of the correlation matrix."
   ]
  },
  {
   "cell_type": "code",
   "execution_count": null,
   "metadata": {
    "collapsed": true,
    "name": "range"
   },
   "outputs": [],
   "source": [
    "# Set the diagonals of correl to NA\n",
    "\n",
    "\n",
    "# Calculate the range of correl (removing NAs)\n"
   ]
  },
  {
   "cell_type": "markdown",
   "metadata": {},
   "source": [
    "We have both positive and negative correlations, so this is a slightly trickier situation than in the slides. We want a symmetric color scale centered on zero.\n",
    "\n",
    "Define the limits of the color scale.\n",
    "\n",
    "- Calculate the `max`imum `abs`olute correlation (removing NAs). Assign to `max_abs_correl`.\n",
    "- Add some padding to `max_abs_correl` (any small number). Assign to `max_abs_correl_padded`.\n",
    "- Define the scale limits as the vector (`-max_abs_correl_padded`, `max_abs_correl_padded`)."
   ]
  },
  {
   "cell_type": "code",
   "execution_count": null,
   "metadata": {
    "collapsed": true,
    "name": "scale_limits"
   },
   "outputs": [],
   "source": [
    "# Calculate the largest absolute correlation (removing NAs)\n",
    "max_abs_correl <-\n",
    "\n",
    "# Add some padding\n",
    "max_abs_correl_padded <- \n",
    "\n",
    "# Define limits from -max_abs_correl_padded to max_abs_correl_padded\n",
    "scale_limits <- "
   ]
  },
  {
   "cell_type": "markdown",
   "metadata": {},
   "source": [
    "Draw the previous plot again, this time overriding the fill color scale.\n",
    "\n",
    "- Add `scale_fill_gradient2()`.\n",
    "- Pass the scale limits.\n",
    "- Set the `high` argument to `\"red\"`.\n",
    "- Set the `mid` argument to `\"white\"`.\n",
    "- Set the `low` argument to `\"blue\"`."
   ]
  },
  {
   "cell_type": "code",
   "execution_count": null,
   "metadata": {
    "collapsed": true,
    "name": "color"
   },
   "outputs": [],
   "source": [
    "# Draw a correlation heatmap of the upper triangular portion\n",
    "# Override the fill scale to use a 2-way gradient\n"
   ]
  },
  {
   "cell_type": "markdown",
   "metadata": {},
   "source": [
    "## Interpreting correlation heatmaps\n",
    "\n",
    "Drinkers of Glenfiddich are most likely to also drink which other whisky?\n",
    "\n",
    "- [ ] Scoresby rare\n",
    "- [ ] J & B\n",
    "- [ ] Glenlivet\n",
    "- [ ] Black & White\n",
    "- [ ] Chivas Regal"
   ]
  },
  {
   "cell_type": "markdown",
   "metadata": {},
   "source": [
    "Drinkers of Knockando are most likely to also drink which other whisky?\n",
    "\n",
    "- [ ] Dewar's White Label\n",
    "- [ ] Johnny Walker Red Label\n",
    "- [ ] Johnny Walker Black Label\n",
    "- [ ] Macallan\n",
    "- [ ] Chivas Regal"
   ]
  },
  {
   "cell_type": "markdown",
   "metadata": {},
   "source": [
    "# Chapter 4: Too many facets - trelliscope plots\n",
    "\n",
    "Here, you'll explore the 30 stocks in the Dow Jones Industrial Average (DJIA)."
   ]
  },
  {
   "cell_type": "markdown",
   "metadata": {},
   "source": [
    "## Learning objectives\n",
    "\n",
    "- Can convert a ggplot into a trelliscope plot.\n",
    "- Can use common arguments to control the appearance of a trelliscope plot.\n",
    "- Can use the interactive filter and sort tools to interpret a trelliscope plot."
   ]
  },
  {
   "cell_type": "markdown",
   "metadata": {},
   "source": [
    "## Load the packages\n",
    "\n",
    "You'll need `fst`, `tibble`, `ggplot2`, and `trelliscopejs`. Just run this code."
   ]
  },
  {
   "cell_type": "code",
   "execution_count": null,
   "metadata": {
    "collapsed": true,
    "message": false,
    "name": "load_pkg"
   },
   "outputs": [],
   "source": [
    "library(fst)\n",
    "library(tibble)\n",
    "library(ggplot2)\n",
    "library(trelliscopejs)"
   ]
  },
  {
   "cell_type": "markdown",
   "metadata": {},
   "source": [
    "## Get the dataset"
   ]
  },
  {
   "cell_type": "markdown",
   "metadata": {},
   "source": [
    "Run this to download the data file."
   ]
  },
  {
   "cell_type": "code",
   "execution_count": null,
   "metadata": {
    "collapsed": true
   },
   "outputs": [],
   "source": [
    "download.file(\n",
    "  \"https://github.com/datacamp/Visualizing-Big-Data-in-R-live-training/raw/master/data/dow_stock_prices.fst\",\n",
    "  \"dow_stock_prices.fst\"\n",
    ")"
   ]
  },
  {
   "cell_type": "markdown",
   "metadata": {},
   "source": [
    "Import the DJIA data from `dow_stock_prices.fst`, assigning to `dow_stock_prices`. Explore it however you wish."
   ]
  },
  {
   "cell_type": "code",
   "execution_count": null,
   "metadata": {
    "collapsed": true,
    "name": "explore"
   },
   "outputs": [],
   "source": [
    "# Import the dataset from dow_stock_prices.fst\n",
    "dow_stock_prices <- \n",
    "\n",
    "# Explore the dataset, however you wish\n"
   ]
  },
  {
   "cell_type": "markdown",
   "metadata": {},
   "source": [
    "- `symbol`: The stock ticker symbol (unique ID for company).\n",
    "- `company`: Human-readable company name.\n",
    "- `sector`: Business sector that the company participates in.\n",
    "- `date`: Date on which price and volume data was calculated for.\n",
    "- `volume`: Number of shares traded on `date`.\n",
    "- `adjusted`: Price of 1 share, after adjusting for dividends and splits.\n",
    "- `relative`: Price of 1 share, relative to the maximum of `adjusted` over the time period\n",
    "- `date_of_max_price`: For each stock, the date when the maximum share price was first achieved.\n",
    "- `date_of_min_price`: For each stock, the date when the maximum share price was first achieved.\n",
    "\n",
    "Take a look at the range of the dates in the dataset."
   ]
  },
  {
   "cell_type": "code",
   "execution_count": null,
   "metadata": {
    "collapsed": true,
    "name": "when"
   },
   "outputs": [],
   "source": [
    "# Get the range of the dates in dow_stock_prices\n"
   ]
  },
  {
   "cell_type": "markdown",
   "metadata": {},
   "source": [
    "## From ggplot2 to trelliscopejs\n",
    "\n",
    "Using `dow_stock_prices`, draw a line plot of `relative` versus `date`, faceted by `symbol` then `company`."
   ]
  },
  {
   "cell_type": "code",
   "execution_count": null,
   "metadata": {
    "collapsed": true,
    "fig.height": 8,
    "fig.width": 10,
    "name": "ggplot"
   },
   "outputs": [],
   "source": [
    "# Using dow_stock_prices, plot relative vs. date\n",
    "# as a line plot\n",
    "# faceted by symbol\n"
   ]
  },
  {
   "cell_type": "markdown",
   "metadata": {},
   "source": [
    "Redraw the previous plot, this time as a trelliscope plot (no customization). \n",
    "\n",
    "- Set the `path` argument to `\"trelliscope/basic\"`."
   ]
  },
  {
   "cell_type": "code",
   "execution_count": null,
   "metadata": {
    "collapsed": true,
    "name": "basic"
   },
   "outputs": [],
   "source": [
    "# Same plot as before, using trelliscope\n"
   ]
  },
  {
   "cell_type": "markdown",
   "metadata": {},
   "source": [
    "Run this next line to open the plot in a new browser tab."
   ]
  },
  {
   "cell_type": "code",
   "execution_count": null,
   "metadata": {
    "collapsed": true
   },
   "outputs": [],
   "source": [
    "# Browse for the plot URL\n",
    "browseURL(\"trelliscope/basic/index.html\")"
   ]
  },
  {
   "cell_type": "markdown",
   "metadata": {},
   "source": [
    "# Improving the plot\n",
    "\n",
    "We can improve on the previous plot by customizing it.\n",
    "\n",
    "Redraw the previous plot, with the following changes.\n",
    "\n",
    "- Set the `path` argument to `\"trelliscope/improved\"`.\n",
    "- Set the plot title to `Dow Jones Industrial Average`.\n",
    "- Set the plot description to `Share prices 2017-01-01 to 2020-01-01`.\n",
    "- Arrange the panels in `5` rows of `2` columns per page. \n",
    "- Increase the width of each panel to `1200` pixels."
   ]
  },
  {
   "cell_type": "code",
   "execution_count": null,
   "metadata": {
    "collapsed": true,
    "name": "improved"
   },
   "outputs": [],
   "source": [
    "# Draw the same plot again, customizing the display\n",
    "# Set path, name, desc, nrow, ncol, width\n"
   ]
  },
  {
   "cell_type": "markdown",
   "metadata": {},
   "source": [
    "Open the plot in a new browser tab."
   ]
  },
  {
   "cell_type": "code",
   "execution_count": null,
   "metadata": {
    "collapsed": true
   },
   "outputs": [],
   "source": [
    "# Browse for the plot URL\n"
   ]
  },
  {
   "cell_type": "markdown",
   "metadata": {},
   "source": [
    "## Labels\n",
    "\n",
    "Add the `company` to the labels shown on each panel."
   ]
  },
  {
   "cell_type": "markdown",
   "metadata": {},
   "source": [
    "## Filtering\n",
    "\n",
    "Which `sector` contains the most companies?\n",
    "\n",
    "- [ ] Health Care\n",
    "- [ ] Information Technology\n",
    "- [ ] Consumer Staples\n",
    "- [ ] Industrials\n",
    "- [ ] Financials"
   ]
  },
  {
   "cell_type": "markdown",
   "metadata": {},
   "source": [
    "Which `Energy` sector company began 2020 with a lower share price than 2017?\n",
    "\n",
    "- [ ] CVX (Chevron)\n",
    "- [ ] XOM (Exxon Mobil)"
   ]
  },
  {
   "cell_type": "markdown",
   "metadata": {},
   "source": [
    "How many companies had a maximum price more than double the minimum price during the time period? That is, how many companies had a relative minimum less than `0.5`?\n",
    "\n",
    "- [ ] 4\n",
    "- [ ] 5\n",
    "- [ ] 6\n",
    "- [ ] 7\n"
   ]
  },
  {
   "cell_type": "markdown",
   "metadata": {},
   "source": [
    "# Sorting\n",
    "\n",
    "Based on mean daily volume of trades, which company was the 3rd most traded during the time period?\n",
    "\n",
    "- [ ] AAPL (Apple)\n",
    "- [ ] MSFT (Microsoft)\n",
    "- [ ] CSCO (Cisco Systems)\n",
    "- [ ] PFE (Pfizer)\n",
    "- [ ] INTC (Intel)"
   ]
  },
  {
   "cell_type": "markdown",
   "metadata": {},
   "source": [
    "Which company's median realtive price during the time period was lowest?\n",
    "\n",
    "- [ ] AAPL (Apple)\n",
    "- [ ] MSFT (Microsoft)\n",
    "- [ ] V (Verizon Communications)\n",
    "- [ ] MRK (Merck & Co.)\n",
    "- [ ] PG ()"
   ]
  },
  {
   "cell_type": "markdown",
   "metadata": {},
   "source": [
    "## Free scales\n",
    "\n",
    "The relative share prices were plotted to make it easier to compare performance between companies. If you want to plot the non-normalized `adjusted` prices, you need to give each panel its own y-axis.\n",
    "\n",
    "Redraw the previous plot, with these changes.\n",
    "\n",
    "- Set the `path` argument to `\"trelliscope/yscale\"`.\n",
    "- On the y-axis, plot `adjusted` rather than `relative`.\n",
    "- Give each panel a free y-axis scale (while keeping the x-axis scales the same)."
   ]
  },
  {
   "cell_type": "code",
   "execution_count": null,
   "metadata": {
    "collapsed": true,
    "name": "yscale"
   },
   "outputs": [],
   "source": [
    "# This time plot adjusted vs. date\n",
    "# Use a free y-scale\n"
   ]
  },
  {
   "cell_type": "markdown",
   "metadata": {},
   "source": [
    "Open the plot in a new browser tab."
   ]
  },
  {
   "cell_type": "code",
   "execution_count": null,
   "metadata": {
    "collapsed": true
   },
   "outputs": [],
   "source": [
    "# Browse for the plot URL\n"
   ]
  },
  {
   "cell_type": "markdown",
   "metadata": {},
   "source": [
    "Which company, at it's maximum, had the highest price for 1 share?\n",
    "\n",
    "- [ ] BA (Boeing)\n",
    "- [ ] GS (Goldman Sachs Group)\n",
    "- [ ] UNH (UnitedHealth Group)\n",
    "- [ ] AAPL (Apple)\n",
    "- [ ] MMM (3M)\n",
    "\n",
    "## Interactive plotting with plotly\n",
    "\n",
    "By using plotly to create each panel, each panel becomes interactive. Hover over the line to see the values of individual points.\n",
    "\n",
    "Redraw the previous plot, using plotly to create the panels.\n",
    "\n",
    "- Set the `path` argument to `\"trelliscope/plotly\"`."
   ]
  },
  {
   "cell_type": "code",
   "execution_count": null,
   "metadata": {
    "collapsed": true,
    "name": "plotly"
   },
   "outputs": [],
   "source": [
    "# Redraw the last plot using plotly for panels\n"
   ]
  },
  {
   "cell_type": "markdown",
   "metadata": {},
   "source": [
    "Open the plot in a new browser tab."
   ]
  },
  {
   "cell_type": "code",
   "execution_count": null,
   "metadata": {
    "collapsed": true
   },
   "outputs": [],
   "source": [
    "# Browse for the plot URL\n"
   ]
  },
  {
   "cell_type": "markdown",
   "metadata": {},
   "source": [
    "`V` (Verizon) had a dip in its share price in December 2018. What was its adjusted share price on 2018-12-24?"
   ]
  },
  {
   "cell_type": "markdown",
   "metadata": {},
   "source": [
    "> "
   ]
  }
 ],
 "metadata": {
  "jupytext": {
   "cell_metadata_filter": "fig.height,fig.width,name,message,-all",
   "main_language": "R",
   "notebook_metadata_filter": "-all"
  },
  "kernelspec": {
   "display_name": "R",
   "language": "R",
   "name": "ir"
  },
  "language_info": {
   "codemirror_mode": "r",
   "file_extension": ".r",
   "mimetype": "text/x-r-source",
   "name": "R",
   "pygments_lexer": "r",
   "version": "4.0.2"
  }
 },
 "nbformat": 4,
 "nbformat_minor": 2
}
